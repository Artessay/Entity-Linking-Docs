{
 "cells": [
  {
   "cell_type": "markdown",
   "metadata": {},
   "source": [
    "TransE将每个实体和关系都表示成一个向量，并假设对于一个存在在知识图谱中的三元组 $(h, r, t)$, 的向量表示满足：\n",
    "\n",
    "$$\n",
    "h + r = t\n",
    "$$\n",
    "\n",
    "对于每个正确的三元组的优化目标是：\n",
    "\n",
    "$$\n",
    "h + r \\approx t\n",
    "$$\n",
    "\n",
    "对于一个三元组的评分函数为：\n",
    "\n",
    "$$\n",
    "f_r(h, t) = ||h + r - t||_{L_1 / L_2}\n",
    "$$\n",
    "\n",
    "TransE的损失函数：\n",
    "\n",
    "$$\n",
    "L = \\sum_{(h, r, t) \\in S} \\sum_{(h', r', t') \\in S'}\n",
    "\\max (0, f_r(h, t) + \\gamma - f_{r'}(h', t'))\n",
    "$$\n",
    "\n",
    "其中S是所有正样本的集合，S'是所有负样本的集合，对于一个正样本(h, r, t), 负样本(h', r', t')通过随机替换h或t得到， $\\gamma$表示间隔，是一个超参。"
   ]
  },
  {
   "cell_type": "code",
   "execution_count": null,
   "metadata": {},
   "outputs": [],
   "source": [
    "import torch\n",
    "import torch.nn as nn\n",
    "import torch.functional as F\n",
    "\n",
    "DEVICE = torch.device(\"cuda\" if torch.cuda.is_available() else \"cpu\")\n",
    "\n",
    "l1_score = lambda x, y: torch.sum(torch.abs(x - y), dim=-1)\n",
    "l2_score = lambda x, y: torch.sqrt(torch.sum((x - y) ** 2, dim=-1))"
   ]
  },
  {
   "cell_type": "code",
   "execution_count": null,
   "metadata": {},
   "outputs": [],
   "source": [
    "class TransE():\n",
    "    def __init__(self, args):\n",
    "        self.entity_num = args.entity_num\n",
    "        self.rel_num = args.rel_num\n",
    "        self.embedding_dimension = args.embedding_dim\n",
    "        self.entity_embedding = nn.Embedding(self.entity_num, self.embedding_dimension).to(DEVICE)\n",
    "        self.rel_embedding = nn.Embedding(self.rel_num, self.embedding_dimension).to(DEVICE)\n",
    "        if args.score_func == 'l1':\n",
    "            self.score_func = l1_score\n",
    "        else:\n",
    "            self.score_func = l2_score\n",
    "\n",
    "    def init_weights(self):\n",
    "        nn.init.xavier_normal_(self.entity_embedding.weight)\n",
    "        nn.init.xavier_normal_(self.rel_embedding.weight)\n",
    "\n",
    "    def forward(self, head, rel, tail):\n",
    "        vec_head = self.entity_embedding(head).view(-1, self.embedding_dimension)\n",
    "        vec_rel = self.rel_embedding(rel).view(-1, self.embedding_dimension)\n",
    "        vec_tail = self.entity_embedding(tail).view(-1, self.embedding_dimension)\n",
    "\n",
    "        vec_head = F.normalize(vec_head)\n",
    "        vec_rel = F.normalize(vec_rel)\n",
    "        vec_tail = F.normalize(vec_tail)\n",
    "\n",
    "        return self.score_func(vec_head, vec_rel, vec_tail)"
   ]
  }
 ],
 "metadata": {
  "language_info": {
   "name": "python"
  },
  "orig_nbformat": 4
 },
 "nbformat": 4,
 "nbformat_minor": 2
}
